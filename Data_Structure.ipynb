{
  "nbformat": 4,
  "nbformat_minor": 0,
  "metadata": {
    "colab": {
      "provenance": []
    },
    "kernelspec": {
      "name": "python3",
      "display_name": "Python 3"
    },
    "language_info": {
      "name": "python"
    }
  },
  "cells": [
    {
      "cell_type": "markdown",
      "source": [
        "#**Theoretical Questions**\n"
      ],
      "metadata": {
        "id": "S-t7doZiZ-BA"
      }
    },
    {
      "cell_type": "markdown",
      "source": [
        "##**1. What are data structures, and why are they important?**\n"
      ],
      "metadata": {
        "id": "b8SSJUyCaJDW"
      }
    },
    {
      "cell_type": "markdown",
      "source": [
        "### Answer :- Data structures are ways of organizing, managing, and storing data in a computer so that it can be accessed and modified efficiently.\n",
        "\n",
        "Data structures are important\n",
        "\n",
        "A) Efficiency\n",
        "The right data structure leads to efficient algorithms. For example, a hash table allows for lookup, while a list might take.\n",
        "\n",
        "B) Scalability\n",
        "As applications grow, properly chosen data structures can handle larger datasets without significant performance drops.\n",
        "\n",
        "C) Data Management\n",
        "They help organize and manage large amounts of data, making it easier to retrieve, update, and manipulate.\n",
        "\n",
        "D) Algorithm Support\n",
        "Many algorithms are built around specific data structures.\n",
        "\n",
        "E) Real-World Modeling\n",
        "Data structures like graphs and trees help model complex relationships like social networks, organizational charts, and file systems.\n",
        "\n"
      ],
      "metadata": {
        "id": "8MEx2t2oaLvn"
      }
    },
    {
      "cell_type": "markdown",
      "source": [
        "## **2.  Explain the difference between mutable and immutable data types with examples**"
      ],
      "metadata": {
        "id": "FPiyoA3PaLyd"
      }
    },
    {
      "cell_type": "markdown",
      "source": [
        "### **Answer:**-\n",
        "\n",
        " **Mutable** objects can be changed after they are created.\n",
        "\n",
        "**Examples**: List, Dictionary, Set,\n",
        "\n",
        "my_list = [1, 2, 3]\n",
        "\n",
        "my_list.append(4)\n",
        "\n",
        "This changes the list\n",
        "\n",
        "\n",
        "**Immutable** objects cannot be changed once they are created. If you try to\n",
        "change them, a new object is created instead.\n",
        "\n",
        "**Examples**:int, float, str, tuple\n",
        "\n",
        "my_str = \"hello\"\n",
        "\n",
        "You can't do my_str[0] = 'H' - this will give an error\n"
      ],
      "metadata": {
        "id": "mQ71I79NaL1Q"
      }
    },
    {
      "cell_type": "markdown",
      "source": [
        "## **3. What are the main differences between lists and tuples in Python?**"
      ],
      "metadata": {
        "id": "IoQHaIwGaL3t"
      }
    },
    {
      "cell_type": "markdown",
      "source": [
        "### Answer:-\n",
        "\n",
        "* Lists can be changed (mutable), but tuples cannot (immutable).\n",
        "* Lists use more memory; tuples are faster and use less memory.\n",
        "*   Lists have more features like append, remove, etc.\n",
        "\n",
        "\n"
      ],
      "metadata": {
        "id": "tcF1xogtaL6Q"
      }
    },
    {
      "cell_type": "markdown",
      "source": [
        "## **4.Describe how dictionaries store data**"
      ],
      "metadata": {
        "id": "xzHNfS_EaL89"
      }
    },
    {
      "cell_type": "markdown",
      "source": [
        "### Answer:-\n",
        "In Python, dictionaries store data as key-value pairs and use a data structure called a hash table under the hood to do it efficiently.\n",
        "\n",
        "Example:-"
      ],
      "metadata": {
        "id": "4HXSS9s3aMAD"
      }
    },
    {
      "cell_type": "code",
      "source": [
        "person = {\"name\": \"John\", \"age\": 25}"
      ],
      "metadata": {
        "id": "7pSpL0WGiaQ4"
      },
      "execution_count": 3,
      "outputs": []
    },
    {
      "cell_type": "markdown",
      "source": [
        "## **5. Why might you use a set instead of a list in Python**"
      ],
      "metadata": {
        "id": "B_9Wtjg7if7G"
      }
    },
    {
      "cell_type": "markdown",
      "source": [
        "### **Answer:-** Use a set when:\n",
        "\n",
        "*   You do not want duplicate values.\n",
        "*  You want to check if something exists quickly.\n",
        "\n"
      ],
      "metadata": {
        "id": "H_oMoSbjigGX"
      }
    },
    {
      "cell_type": "markdown",
      "source": [
        "## **6. What is a string in Python, and how is it different from a list?**\n"
      ],
      "metadata": {
        "id": "Ln10ejnDigJ_"
      }
    },
    {
      "cell_type": "markdown",
      "source": [
        "### **Answer:-**\n",
        "A string is a series of characters (like words or sentences). A list can have anything (numbers, strings, etc.) and can be changed, but strings cannot be changed after creation."
      ],
      "metadata": {
        "id": "noC0BM-yigPL"
      }
    },
    {
      "cell_type": "markdown",
      "source": [
        "## **7. How do tuples ensure data integrity in Python?**"
      ],
      "metadata": {
        "id": "HWzOl0XpigSk"
      }
    },
    {
      "cell_type": "markdown",
      "source": [
        "### **Answer:**\n",
        "\n",
        "Tuples can’t be changed after you create them. So they keep the data safe from accidental changes."
      ],
      "metadata": {
        "id": "aEEQfeRxmbEd"
      }
    },
    {
      "cell_type": "markdown",
      "source": [
        "## **8. What is a hash table, and how does it relate to dictionaries in Python?**"
      ],
      "metadata": {
        "id": "cM6-2ZRFmbBF"
      }
    },
    {
      "cell_type": "markdown",
      "source": [
        "### **Answer:**\n",
        "\n",
        "A hash table is a way of storing data using keys. Python dictionaries are built using hash tables, so you can find things fast by using a key."
      ],
      "metadata": {
        "id": "a04jOfMQma-Q"
      }
    },
    {
      "cell_type": "markdown",
      "source": [
        "## **9. Can lists contain different data types in Python?**"
      ],
      "metadata": {
        "id": "7vYg25ffma7m"
      }
    },
    {
      "cell_type": "markdown",
      "source": [
        "### **Answers:**\n",
        "\n",
        "Yes!  A list can have numbers, strings, even other lists. Example:"
      ],
      "metadata": {
        "id": "_X-vWlQvma4x"
      }
    },
    {
      "cell_type": "markdown",
      "source": [
        "## **[1, \"hello\", 3.14]**"
      ],
      "metadata": {
        "id": "vsxPs6URma18"
      }
    },
    {
      "cell_type": "markdown",
      "source": [
        "## **10. Explain why strings are immutable in Python.**"
      ],
      "metadata": {
        "id": "5x4VU3bnmazW"
      }
    },
    {
      "cell_type": "markdown",
      "source": [
        "### **Answer:**\n",
        "\n",
        "Strings are made unchangeable (immutable) for safety and performance. This also allows them to be used as keys in dictionaries."
      ],
      "metadata": {
        "id": "fL8YEY7dmawf"
      }
    },
    {
      "cell_type": "markdown",
      "source": [
        "##**11. What advantages do dictionaries offer over lists for certain tasks?**"
      ],
      "metadata": {
        "id": "fCpDjh5lmatr"
      }
    },
    {
      "cell_type": "markdown",
      "source": [
        "### **Answer:**\n",
        "\n",
        "Dictionaries let you look up data by name (key), not just position. This is faster and easier when dealing with labeled data."
      ],
      "metadata": {
        "id": "NJVWpqGOmaqk"
      }
    },
    {
      "cell_type": "markdown",
      "source": [
        "## **12. Describe a scenario where using a tuple would be preferable over a list.**"
      ],
      "metadata": {
        "id": "HRh1SZiEmanx"
      }
    },
    {
      "cell_type": "markdown",
      "source": [
        "**Answer:**\n",
        "\n",
        "Use a tuple when the data should not change.\n",
        "\n",
        " Example: storing coordinates (x, y) or days of the week."
      ],
      "metadata": {
        "id": "S_wjXVGnmah8"
      }
    },
    {
      "cell_type": "markdown",
      "source": [
        "## **13. How do sets handle duplicate values in Python?**"
      ],
      "metadata": {
        "id": "Nku5-9yomaeh"
      }
    },
    {
      "cell_type": "markdown",
      "source": [
        " ### **Answer:**\n",
        "\n",
        "Sets automatically remove duplicates. Example: Set ([1, 2, 2, 3]) becomes {1, 2, 3}"
      ],
      "metadata": {
        "id": "f4U2xCAumaac"
      }
    },
    {
      "cell_type": "markdown",
      "source": [
        "## **14. How does the “in” keyword work differently for lists and dictionaries?**"
      ],
      "metadata": {
        "id": "sz9V2TLTmaWz"
      }
    },
    {
      "cell_type": "markdown",
      "source": [
        "### **Answer:**\n",
        "\n",
        "In lists: checks if a value exists.\n",
        "\n",
        "In dictionaries: checks if a key exists."
      ],
      "metadata": {
        "id": "Pvet7z_tmaOH"
      }
    },
    {
      "cell_type": "markdown",
      "source": [
        "## **15. Can you modify the elements of a tuple? Explain why or why not.**"
      ],
      "metadata": {
        "id": "RQ89elUJmaKj"
      }
    },
    {
      "cell_type": "markdown",
      "source": [
        "### **Answer:**\n",
        "\n",
        "No, tuples cannot be changed. They are immutable."
      ],
      "metadata": {
        "id": "Mu20lm_BmaBH"
      }
    },
    {
      "cell_type": "markdown",
      "source": [
        "## **16. What is a nested dictionary, and give an example of its use case.**"
      ],
      "metadata": {
        "id": "o-gcZz4_4pYO"
      }
    },
    {
      "cell_type": "markdown",
      "source": [
        "### **Answer:**\n",
        "\n",
        "A dictionary inside another dictionary. Example:"
      ],
      "metadata": {
        "id": "EZpuQzzV4pa5"
      }
    },
    {
      "cell_type": "code",
      "source": [
        "\n",
        "student = {\n",
        "  \"name\": \"Chavi\",\n",
        "  \"grades\": {\"math\": 90, \"science\": 95}\n",
        "}\n"
      ],
      "metadata": {
        "id": "il4BA-rw46-Y"
      },
      "execution_count": 4,
      "outputs": []
    },
    {
      "cell_type": "markdown",
      "source": [
        "## **17. Describe the time complexity of accessing elements in a dictionary.**"
      ],
      "metadata": {
        "id": "lETUVh6d4pdn"
      }
    },
    {
      "cell_type": "markdown",
      "source": [
        "### **Answer:**\n",
        "\n",
        " It is O(1), which means very fast, because of the way hash tables work."
      ],
      "metadata": {
        "id": "F6jtBhW84pgc"
      }
    },
    {
      "cell_type": "markdown",
      "source": [
        "## **18. In what situations are lists preferred over dictionaries?**"
      ],
      "metadata": {
        "id": "A6SXFukO4pjW"
      }
    },
    {
      "cell_type": "markdown",
      "source": [
        "### **Answer:**\n",
        "\n",
        "Use lists when:\n",
        "\n",
        "You only care about the order of items.\n",
        "\n",
        "You don’t need key-value pairs."
      ],
      "metadata": {
        "id": "gLHEO7Ni4pl1"
      }
    },
    {
      "cell_type": "markdown",
      "source": [
        "## **19. Why are dictionaries considered unordered, and how does that affect data retrieval?**\n"
      ],
      "metadata": {
        "id": "kfovctUD4poN"
      }
    },
    {
      "cell_type": "markdown",
      "source": [
        "### **Answer:**\n",
        "\n",
        "Before Python 3.7, dictionaries didn’t keep the order of items. Now they do, but we still access items by key, not position."
      ],
      "metadata": {
        "id": "Qt1rhtT-4pr0"
      }
    },
    {
      "cell_type": "markdown",
      "source": [
        "## **20. Explain the difference between a list and a dictionary in terms of data retrieval.**"
      ],
      "metadata": {
        "id": "lgBckPEYmZuW"
      }
    },
    {
      "cell_type": "markdown",
      "source": [
        "### **Answer:**\n",
        "\n",
        "Lists use indexes (numbers) to get items.\n",
        "\n",
        "Dictionaries use keys (names or labels)."
      ],
      "metadata": {
        "id": "D-pBTV-N583B"
      }
    },
    {
      "cell_type": "markdown",
      "source": [
        "# **Practical Questions**"
      ],
      "metadata": {
        "id": "6szrNUbO585q"
      }
    },
    {
      "cell_type": "markdown",
      "source": [
        "## **1. Write a code to create a string with your name and print it.**"
      ],
      "metadata": {
        "id": "T2Is0kXS588f"
      }
    },
    {
      "cell_type": "code",
      "source": [
        "name = \"Chavi\"\n",
        "print(name)"
      ],
      "metadata": {
        "colab": {
          "base_uri": "https://localhost:8080/"
        },
        "id": "YsSwJ43k6gHr",
        "outputId": "0f798e3e-29eb-4ebb-88e7-7509486b1e00"
      },
      "execution_count": 5,
      "outputs": [
        {
          "output_type": "stream",
          "name": "stdout",
          "text": [
            "Chavi\n"
          ]
        }
      ]
    },
    {
      "cell_type": "markdown",
      "source": [
        "## **2. Write a code to find the length of the string \"Hello World\".**"
      ],
      "metadata": {
        "id": "VH9iFsDq6sSb"
      }
    },
    {
      "cell_type": "code",
      "source": [
        "text = \"Hello World\"\n",
        "print(len(text))"
      ],
      "metadata": {
        "colab": {
          "base_uri": "https://localhost:8080/"
        },
        "id": "G4VyM1p26vr7",
        "outputId": "de77a0ca-67d7-4808-ee93-745892c5c7c3"
      },
      "execution_count": 6,
      "outputs": [
        {
          "output_type": "stream",
          "name": "stdout",
          "text": [
            "11\n"
          ]
        }
      ]
    },
    {
      "cell_type": "markdown",
      "source": [
        "## **3. Write a code to slice the first 3 characters from the string \"Python Programming\".**"
      ],
      "metadata": {
        "id": "_s6PaWIj61LA"
      }
    },
    {
      "cell_type": "code",
      "source": [
        "text = \"Python Programming\"\n",
        "print(text[:3])"
      ],
      "metadata": {
        "colab": {
          "base_uri": "https://localhost:8080/"
        },
        "id": "NcPy_2iv81s6",
        "outputId": "a9759909-497f-4fc9-89c8-9efeb29e6557"
      },
      "execution_count": 7,
      "outputs": [
        {
          "output_type": "stream",
          "name": "stdout",
          "text": [
            "Pyt\n"
          ]
        }
      ]
    },
    {
      "cell_type": "markdown",
      "source": [
        "## **4. Write a code to convert the string \"hello\" to uppercase.**"
      ],
      "metadata": {
        "id": "ijGv9-Ax86jU"
      }
    },
    {
      "cell_type": "code",
      "source": [
        "text = \"hello\"\n",
        "print(text.upper())"
      ],
      "metadata": {
        "colab": {
          "base_uri": "https://localhost:8080/"
        },
        "id": "zvKTf1oA9Afy",
        "outputId": "b5252d47-d6d7-4ee0-8d5e-83b097648870"
      },
      "execution_count": 8,
      "outputs": [
        {
          "output_type": "stream",
          "name": "stdout",
          "text": [
            "HELLO\n"
          ]
        }
      ]
    },
    {
      "cell_type": "markdown",
      "source": [
        "## **5. Write a code to replace the word \"apple\" with \"orange\" in the string \"I like apple\"**"
      ],
      "metadata": {
        "id": "2_1i8db-9I5n"
      }
    },
    {
      "cell_type": "code",
      "source": [
        "sentence = \"I like apple\"\n",
        "print(sentence.replace(\"apple\", \"orange\"))\n"
      ],
      "metadata": {
        "colab": {
          "base_uri": "https://localhost:8080/"
        },
        "id": "jlKHkuOO9aC7",
        "outputId": "ca2dd029-e424-47c5-8c81-a5a987d65802"
      },
      "execution_count": 9,
      "outputs": [
        {
          "output_type": "stream",
          "name": "stdout",
          "text": [
            "I like orange\n"
          ]
        }
      ]
    },
    {
      "cell_type": "markdown",
      "source": [
        "## **6. Write a code to create a list with numbers 1 to 5 and print it.**"
      ],
      "metadata": {
        "id": "6CEAZ_A597e-"
      }
    },
    {
      "cell_type": "code",
      "source": [
        "\n",
        "numbers = [1, 2, 3, 4, 5]\n",
        "print(numbers)\n"
      ],
      "metadata": {
        "colab": {
          "base_uri": "https://localhost:8080/"
        },
        "id": "M4V6AUrJ9-Vk",
        "outputId": "419a0096-8a1b-46ea-a34b-3979ea904f65"
      },
      "execution_count": 10,
      "outputs": [
        {
          "output_type": "stream",
          "name": "stdout",
          "text": [
            "[1, 2, 3, 4, 5]\n"
          ]
        }
      ]
    },
    {
      "cell_type": "markdown",
      "source": [
        "## **7. Write a code to append the number 10 to the list [1, 2, 3, 4].**"
      ],
      "metadata": {
        "id": "0cYOZ9oN-H6D"
      }
    },
    {
      "cell_type": "code",
      "source": [
        "numbers = [1, 2, 3, 4]\n",
        "numbers.append(10)\n",
        "print(numbers)"
      ],
      "metadata": {
        "colab": {
          "base_uri": "https://localhost:8080/"
        },
        "id": "eovzR_4S-Mv-",
        "outputId": "81e8c687-83d2-4a1f-aab8-3e58249f0d48"
      },
      "execution_count": 11,
      "outputs": [
        {
          "output_type": "stream",
          "name": "stdout",
          "text": [
            "[1, 2, 3, 4, 10]\n"
          ]
        }
      ]
    },
    {
      "cell_type": "markdown",
      "source": [
        "## **8. Write a code to remove the number 3 from the list [1, 2, 3, 4, 5].**"
      ],
      "metadata": {
        "id": "x8cI5Ubd-SN3"
      }
    },
    {
      "cell_type": "code",
      "source": [
        "\n",
        "numbers = [1, 2, 3, 4, 5]\n",
        "numbers.remove(3)\n",
        "print(numbers)"
      ],
      "metadata": {
        "colab": {
          "base_uri": "https://localhost:8080/"
        },
        "id": "cxHY69mj-VN3",
        "outputId": "592eb598-cf1e-40f6-e001-21f69ecb3c04"
      },
      "execution_count": 12,
      "outputs": [
        {
          "output_type": "stream",
          "name": "stdout",
          "text": [
            "[1, 2, 4, 5]\n"
          ]
        }
      ]
    },
    {
      "cell_type": "markdown",
      "source": [
        "## **9. Write a code to access the second element in the list ['a', 'b', 'c', 'd'].**"
      ],
      "metadata": {
        "id": "SRHJjVqZ-bRn"
      }
    },
    {
      "cell_type": "code",
      "source": [
        "letters = ['a', 'b', 'c', 'd']\n",
        "print(letters[1])"
      ],
      "metadata": {
        "colab": {
          "base_uri": "https://localhost:8080/"
        },
        "id": "LaE8uuNw-dCZ",
        "outputId": "21a14654-12c7-4980-d36d-65295a95093c"
      },
      "execution_count": 13,
      "outputs": [
        {
          "output_type": "stream",
          "name": "stdout",
          "text": [
            "b\n"
          ]
        }
      ]
    },
    {
      "cell_type": "markdown",
      "source": [
        "## **10. Write a code to reverse the list [10, 20, 30, 40, 50].**"
      ],
      "metadata": {
        "id": "N3RFbY2N-k44"
      }
    },
    {
      "cell_type": "code",
      "source": [
        "numbers = [10, 20, 30, 40, 50]\n",
        "print(numbers[::-1])\n"
      ],
      "metadata": {
        "colab": {
          "base_uri": "https://localhost:8080/"
        },
        "id": "HrJEbW2E-l6Q",
        "outputId": "13146aab-af79-4773-9636-2ea61e34a23b"
      },
      "execution_count": 14,
      "outputs": [
        {
          "output_type": "stream",
          "name": "stdout",
          "text": [
            "[50, 40, 30, 20, 10]\n"
          ]
        }
      ]
    },
    {
      "cell_type": "markdown",
      "source": [
        "\n",
        "## **11. Write a code to create a tuple with the elements 100, 200, 300 and print it.**"
      ],
      "metadata": {
        "id": "wzdT6IgI-uX2"
      }
    },
    {
      "cell_type": "code",
      "source": [
        "my_tuple = (100, 200, 300)\n",
        "print(my_tuple)\n"
      ],
      "metadata": {
        "colab": {
          "base_uri": "https://localhost:8080/"
        },
        "id": "ZQSVXpo7AUF6",
        "outputId": "1f24a7a0-48e9-4a22-d1b0-6aac70ac63d8"
      },
      "execution_count": 15,
      "outputs": [
        {
          "output_type": "stream",
          "name": "stdout",
          "text": [
            "(100, 200, 300)\n"
          ]
        }
      ]
    },
    {
      "cell_type": "markdown",
      "source": [
        "## **12. Write a code to access the second-to-last element of the tuple ('red', 'green', 'blue', 'yellow').**"
      ],
      "metadata": {
        "id": "zn3rLRlHAfRU"
      }
    },
    {
      "cell_type": "code",
      "source": [
        "colors = ('red', 'green', 'blue', 'yellow')\n",
        "print(colors[-2])"
      ],
      "metadata": {
        "colab": {
          "base_uri": "https://localhost:8080/"
        },
        "id": "uhFjtiffAhTD",
        "outputId": "f5165ae5-6773-4da9-bd54-ac82cc9e9b84"
      },
      "execution_count": 16,
      "outputs": [
        {
          "output_type": "stream",
          "name": "stdout",
          "text": [
            "blue\n"
          ]
        }
      ]
    },
    {
      "cell_type": "markdown",
      "source": [
        "## **13. Write a code to find the minimum number in the tuple (10, 20, 5, 15).**"
      ],
      "metadata": {
        "id": "LxhFeS6-AqLq"
      }
    },
    {
      "cell_type": "code",
      "source": [
        "numbers = (10, 20, 5, 15)\n",
        "print(min(numbers))\n"
      ],
      "metadata": {
        "colab": {
          "base_uri": "https://localhost:8080/"
        },
        "id": "7EUlPUANAsMR",
        "outputId": "3bc59c7c-8a6d-4f4a-8e07-00b2c2ac2798"
      },
      "execution_count": 17,
      "outputs": [
        {
          "output_type": "stream",
          "name": "stdout",
          "text": [
            "5\n"
          ]
        }
      ]
    },
    {
      "cell_type": "markdown",
      "source": [
        "## **14. Write a code to find the index of the element \"cat\" in the tuple ('dog', 'cat', 'rabbit').**"
      ],
      "metadata": {
        "id": "BRmPGOXOAxa0"
      }
    },
    {
      "cell_type": "code",
      "source": [
        "animals = ('dog', 'cat', 'rabbit')\n",
        "print(animals.index(\"cat\"))\n"
      ],
      "metadata": {
        "colab": {
          "base_uri": "https://localhost:8080/"
        },
        "id": "40q44WHWAz0t",
        "outputId": "2bce714b-336d-4be2-d43f-8f5f1aad029c"
      },
      "execution_count": 18,
      "outputs": [
        {
          "output_type": "stream",
          "name": "stdout",
          "text": [
            "1\n"
          ]
        }
      ]
    },
    {
      "cell_type": "markdown",
      "source": [
        "## **15. Write a code to create a tuple containing three different fruits and check if \"kiwi\" is in it.**"
      ],
      "metadata": {
        "id": "Qa7tARSFA77p"
      }
    },
    {
      "cell_type": "code",
      "source": [
        "fruits = (\"apple\", \"banana\", \"mango\")\n",
        "print(\"kiwi\" in fruits)\n"
      ],
      "metadata": {
        "colab": {
          "base_uri": "https://localhost:8080/"
        },
        "id": "oC2xFD2dA-md",
        "outputId": "815dfdfb-d372-4fa4-a99d-a6553f38955c"
      },
      "execution_count": 19,
      "outputs": [
        {
          "output_type": "stream",
          "name": "stdout",
          "text": [
            "False\n"
          ]
        }
      ]
    },
    {
      "cell_type": "markdown",
      "source": [
        "## 16. Write a code to create a set with the elements 'a', 'b', 'c' and print it."
      ],
      "metadata": {
        "id": "vNcVT8j4BHgT"
      }
    },
    {
      "cell_type": "code",
      "source": [
        "my_set = {'a', 'b', 'c'}\n",
        "print(my_set)"
      ],
      "metadata": {
        "colab": {
          "base_uri": "https://localhost:8080/"
        },
        "id": "H6N5G5BNBJO4",
        "outputId": "7aadfd07-31aa-4c3a-8dff-e2049d23d433"
      },
      "execution_count": 20,
      "outputs": [
        {
          "output_type": "stream",
          "name": "stdout",
          "text": [
            "{'b', 'a', 'c'}\n"
          ]
        }
      ]
    },
    {
      "cell_type": "markdown",
      "source": [
        "## **17. Write a code to clear all elements from the set {1, 2, 3, 4, 5}.**"
      ],
      "metadata": {
        "id": "vSTn0yjfBZ8z"
      }
    },
    {
      "cell_type": "code",
      "source": [
        "my_set = {1, 2, 3, 4, 5}\n",
        "my_set.clear()\n",
        "print(my_set)\n"
      ],
      "metadata": {
        "colab": {
          "base_uri": "https://localhost:8080/"
        },
        "id": "vbPFmsmrBiEN",
        "outputId": "c2617154-d374-403f-ad1c-a41c7881b0c8"
      },
      "execution_count": 21,
      "outputs": [
        {
          "output_type": "stream",
          "name": "stdout",
          "text": [
            "set()\n"
          ]
        }
      ]
    },
    {
      "cell_type": "markdown",
      "source": [
        "## **18. Write a code to remove the element 4 from the set {1, 2, 3, 4}.**"
      ],
      "metadata": {
        "id": "KmBZlZBxBmr2"
      }
    },
    {
      "cell_type": "code",
      "source": [
        "\n",
        "my_set = {1, 2, 3, 4}\n",
        "my_set.remove(4)\n",
        "print(my_set)\n"
      ],
      "metadata": {
        "colab": {
          "base_uri": "https://localhost:8080/"
        },
        "id": "qedc5RXlBo_J",
        "outputId": "b1cac4a9-d2eb-4ee4-d7b5-a7c37106ca0f"
      },
      "execution_count": 22,
      "outputs": [
        {
          "output_type": "stream",
          "name": "stdout",
          "text": [
            "{1, 2, 3}\n"
          ]
        }
      ]
    },
    {
      "cell_type": "markdown",
      "source": [
        "## **19. Write a code to find the union of two sets {1, 2, 3} and {3, 4, 5}.**"
      ],
      "metadata": {
        "id": "nwyyYkWNBuJ_"
      }
    },
    {
      "cell_type": "code",
      "source": [
        "set1 = {1, 2, 3}\n",
        "set2 = {3, 4, 5}\n",
        "print(set1.union(set2))\n"
      ],
      "metadata": {
        "colab": {
          "base_uri": "https://localhost:8080/"
        },
        "id": "X5tYnDkYBvC5",
        "outputId": "e44aca9a-2f73-4df5-97de-bb0df5337239"
      },
      "execution_count": 23,
      "outputs": [
        {
          "output_type": "stream",
          "name": "stdout",
          "text": [
            "{1, 2, 3, 4, 5}\n"
          ]
        }
      ]
    },
    {
      "cell_type": "markdown",
      "source": [
        "## **20. Write a code to find the intersection of two sets {1, 2, 3} and {2, 3, 4}.**"
      ],
      "metadata": {
        "id": "Olx3RRq6B1PO"
      }
    },
    {
      "cell_type": "code",
      "source": [
        "set1 = {1, 2, 3}\n",
        "set2 = {2, 3, 4}\n",
        "print(set1.intersection(set2))"
      ],
      "metadata": {
        "colab": {
          "base_uri": "https://localhost:8080/"
        },
        "id": "b-usQ68_B3Y9",
        "outputId": "6981d31c-6e0e-4ad2-dffb-d6fb2af812a3"
      },
      "execution_count": 24,
      "outputs": [
        {
          "output_type": "stream",
          "name": "stdout",
          "text": [
            "{2, 3}\n"
          ]
        }
      ]
    },
    {
      "cell_type": "markdown",
      "source": [
        "## **21. Write a code to create a dictionary with the keys \"name\", \"age\", and \"city\", and print it.**"
      ],
      "metadata": {
        "id": "cRWQ8x2pB_8l"
      }
    },
    {
      "cell_type": "code",
      "source": [
        "person = {\"name\": \"Mansi\", \"age\": 25, \"city\": \"Ranchi\"}\n",
        "print(person)"
      ],
      "metadata": {
        "colab": {
          "base_uri": "https://localhost:8080/"
        },
        "id": "ukL_bjuWCCYt",
        "outputId": "4ccf922b-43f2-43b7-f0ce-1c51fca27117"
      },
      "execution_count": 25,
      "outputs": [
        {
          "output_type": "stream",
          "name": "stdout",
          "text": [
            "{'name': 'Mansi', 'age': 25, 'city': 'Ranchi'}\n"
          ]
        }
      ]
    },
    {
      "cell_type": "markdown",
      "source": [
        "## **22. Write a code to add a new key-value pair \"country\": \"USA\" to the dictionary {'name': 'John', 'age': 25}.**"
      ],
      "metadata": {
        "id": "piZg15CoCICy"
      }
    },
    {
      "cell_type": "code",
      "source": [
        "person = {'name': 'John', 'age': 25}\n",
        "person[\"country\"] = \"USA\"\n",
        "print(person)\n"
      ],
      "metadata": {
        "colab": {
          "base_uri": "https://localhost:8080/"
        },
        "id": "zVlkQOP8CLlp",
        "outputId": "71c06169-e1cd-43cb-e0c6-92e6211baac7"
      },
      "execution_count": 26,
      "outputs": [
        {
          "output_type": "stream",
          "name": "stdout",
          "text": [
            "{'name': 'John', 'age': 25, 'country': 'USA'}\n"
          ]
        }
      ]
    },
    {
      "cell_type": "markdown",
      "source": [
        "## **23. Write a code to access the value associated with the key \"name\" in the dictionary {'name': 'Alice', 'age': 30}.**"
      ],
      "metadata": {
        "id": "hggeK_5wCQ9D"
      }
    },
    {
      "cell_type": "code",
      "source": [
        "\n",
        "person = {'name': 'Alice', 'age': 30}\n",
        "print(person[\"name\"])"
      ],
      "metadata": {
        "colab": {
          "base_uri": "https://localhost:8080/"
        },
        "id": "0LyQjUgiCTYN",
        "outputId": "b73b0f3d-9b26-49f2-e1db-5389e49346d0"
      },
      "execution_count": 27,
      "outputs": [
        {
          "output_type": "stream",
          "name": "stdout",
          "text": [
            "Alice\n"
          ]
        }
      ]
    },
    {
      "cell_type": "markdown",
      "source": [
        "## **24. Write a code to remove the key \"age\" from the dictionary {'name': 'Bob', 'age': 22, 'city': 'New York'}.**"
      ],
      "metadata": {
        "id": "L8DLVB4PCX2m"
      }
    },
    {
      "cell_type": "code",
      "source": [
        "person = {'name': 'Bob', 'age': 22, 'city': 'New York'}\n",
        "del person[\"age\"]\n",
        "print(person)"
      ],
      "metadata": {
        "colab": {
          "base_uri": "https://localhost:8080/"
        },
        "id": "j41xI3R-CaMN",
        "outputId": "7125e137-3356-4189-ed2e-e72572ed77cb"
      },
      "execution_count": 28,
      "outputs": [
        {
          "output_type": "stream",
          "name": "stdout",
          "text": [
            "{'name': 'Bob', 'city': 'New York'}\n"
          ]
        }
      ]
    },
    {
      "cell_type": "markdown",
      "source": [
        "## **25. Write a code to check if the key \"city\" exists in the dictionary {'name': 'Alice', 'city': 'Paris'}.**"
      ],
      "metadata": {
        "id": "MdG5eQ1MCerO"
      }
    },
    {
      "cell_type": "code",
      "source": [
        "\n",
        "person = {'name': 'Alice', 'city': 'Paris'}\n",
        "print(\"city\" in person)\n"
      ],
      "metadata": {
        "colab": {
          "base_uri": "https://localhost:8080/"
        },
        "id": "0v9sB-9ACgID",
        "outputId": "5a4c137e-c293-48fe-8ecd-56d45cafb86e"
      },
      "execution_count": 29,
      "outputs": [
        {
          "output_type": "stream",
          "name": "stdout",
          "text": [
            "True\n"
          ]
        }
      ]
    },
    {
      "cell_type": "markdown",
      "source": [
        "## **26. Write a code to create a list, a tuple, and a dictionary, and print them all.**"
      ],
      "metadata": {
        "id": "_XRmt5rjCkSf"
      }
    },
    {
      "cell_type": "code",
      "source": [
        "my_list = [1, 2, 3]\n",
        "my_tuple = (4, 5, 6)\n",
        "my_dict = {\"a\": 1, \"b\": 2}\n",
        "print(my_list, my_tuple, my_dict)\n"
      ],
      "metadata": {
        "colab": {
          "base_uri": "https://localhost:8080/"
        },
        "id": "2MeG2o1QCmE4",
        "outputId": "37d7fc49-076a-4368-eeb4-dc97538e2e6e"
      },
      "execution_count": 30,
      "outputs": [
        {
          "output_type": "stream",
          "name": "stdout",
          "text": [
            "[1, 2, 3] (4, 5, 6) {'a': 1, 'b': 2}\n"
          ]
        }
      ]
    },
    {
      "cell_type": "markdown",
      "source": [
        "## **27. Write a code to create a list of 5 random numbers between 1 and 100, sort it in ascending order, and print the result.**\n"
      ],
      "metadata": {
        "id": "LKVFuF6lCqYg"
      }
    },
    {
      "cell_type": "code",
      "source": [
        "\n",
        "import random\n",
        "numbers = random.sample(range(1, 101), 5)\n",
        "numbers.sort()\n",
        "print(numbers)"
      ],
      "metadata": {
        "colab": {
          "base_uri": "https://localhost:8080/"
        },
        "id": "L7D0uh6VCsG7",
        "outputId": "38a37f4f-7bbf-4392-89a9-6016d1d11e85"
      },
      "execution_count": 31,
      "outputs": [
        {
          "output_type": "stream",
          "name": "stdout",
          "text": [
            "[1, 17, 44, 60, 81]\n"
          ]
        }
      ]
    },
    {
      "cell_type": "markdown",
      "source": [
        "## **28. Write a code to create a list with strings and print the element at the third index.**"
      ],
      "metadata": {
        "id": "ol1rVnjHC0cM"
      }
    },
    {
      "cell_type": "code",
      "source": [
        "\n",
        "words = [\"apple\", \"banana\", \"orange\", \"date\", \"fig\"]\n",
        "print(words[3])\n"
      ],
      "metadata": {
        "colab": {
          "base_uri": "https://localhost:8080/"
        },
        "id": "vbhyxjVcC2EK",
        "outputId": "fe42b79b-f776-486a-f414-4e603d289931"
      },
      "execution_count": 32,
      "outputs": [
        {
          "output_type": "stream",
          "name": "stdout",
          "text": [
            "date\n"
          ]
        }
      ]
    },
    {
      "cell_type": "markdown",
      "source": [
        "## **29. Write a code to combine two dictionaries into one and print the result.**"
      ],
      "metadata": {
        "id": "xOW6_FSJDDHt"
      }
    },
    {
      "cell_type": "code",
      "source": [
        "dict1 = {\"a\": 1}\n",
        "dict2 = {\"b\": 2}\n",
        "combined = {**dict1, **dict2}\n",
        "print(combined)\n"
      ],
      "metadata": {
        "colab": {
          "base_uri": "https://localhost:8080/"
        },
        "id": "sfSpVPUkDEuC",
        "outputId": "d0fa40a8-6fe7-408c-9f86-860728284fa1"
      },
      "execution_count": 33,
      "outputs": [
        {
          "output_type": "stream",
          "name": "stdout",
          "text": [
            "{'a': 1, 'b': 2}\n"
          ]
        }
      ]
    },
    {
      "cell_type": "markdown",
      "source": [
        "## **30. Write a code to convert a list of strings into a set.**"
      ],
      "metadata": {
        "id": "PW2J9YEcDJhb"
      }
    },
    {
      "cell_type": "code",
      "source": [
        "\n",
        "fruits = [\"apple\", \"banana\", \"apple\", \"orange\"]\n",
        "unique_fruits = set(fruits)\n",
        "print(unique_fruits)\n"
      ],
      "metadata": {
        "colab": {
          "base_uri": "https://localhost:8080/"
        },
        "id": "IPwVJCV2DLHb",
        "outputId": "c1a6a5dc-6bdb-401d-d168-cafd16ae56f6"
      },
      "execution_count": 34,
      "outputs": [
        {
          "output_type": "stream",
          "name": "stdout",
          "text": [
            "{'orange', 'apple', 'banana'}\n"
          ]
        }
      ]
    }
  ]
}